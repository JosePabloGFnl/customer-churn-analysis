{
  "cells": [
    {
      "cell_type": "markdown",
      "metadata": {
        "id": "dKU2obxkKH8c"
      },
      "source": [
        "# Welcome the practice notebook\n",
        "---\n",
        "The objective of this practice is to provide a hands-on experience in data exploration and cleaning. Please follow the instructions provided in the  notebook to complete the practice."
      ]
    },
    {
      "cell_type": "markdown",
      "metadata": {
        "id": "M1xXctOSKf36"
      },
      "source": [
        "Installing pyspark"
      ]
    },
    {
      "cell_type": "code",
      "execution_count": 1,
      "metadata": {
        "id": "bLd6XoJtJZP4"
      },
      "outputs": [],
      "source": [
        "#!pip install pyspark"
      ]
    },
    {
      "cell_type": "markdown",
      "metadata": {
        "id": "1gA6GqvzKpR6"
      },
      "source": [
        "Importing the needed modules and creating the spark session"
      ]
    },
    {
      "cell_type": "code",
      "execution_count": 2,
      "metadata": {
        "colab": {
          "base_uri": "https://localhost:8080/",
          "height": 219
        },
        "id": "c-YsrJbjKptK",
        "outputId": "e9dde702-6ab4-421a-c029-4b7e4a27b9bd"
      },
      "outputs": [
        {
          "output_type": "execute_result",
          "data": {
            "text/plain": [
              "<pyspark.sql.session.SparkSession at 0x7c43d01cae50>"
            ],
            "text/html": [
              "\n",
              "            <div>\n",
              "                <p><b>SparkSession - in-memory</b></p>\n",
              "                \n",
              "        <div>\n",
              "            <p><b>SparkContext</b></p>\n",
              "\n",
              "            <p><a href=\"http://0f73f7c0485d:4040\">Spark UI</a></p>\n",
              "\n",
              "            <dl>\n",
              "              <dt>Version</dt>\n",
              "                <dd><code>v3.5.5</code></dd>\n",
              "              <dt>Master</dt>\n",
              "                <dd><code>local[*]</code></dd>\n",
              "              <dt>AppName</dt>\n",
              "                <dd><code>Datasets/Customer_Churn_Prediction</code></dd>\n",
              "            </dl>\n",
              "        </div>\n",
              "        \n",
              "            </div>\n",
              "        "
            ]
          },
          "metadata": {},
          "execution_count": 2
        }
      ],
      "source": [
        "# importing spark session\n",
        "from pyspark.sql import SparkSession\n",
        "\n",
        "# data visualization modules\n",
        "import matplotlib.pyplot as plt\n",
        "import plotly.express as px\n",
        "\n",
        "# pandas module\n",
        "import pandas as pd\n",
        "\n",
        "# pyspark SQL functions\n",
        "from pyspark.sql.functions import col, when, count\n",
        "\n",
        "# creating the spark session\n",
        "spark = SparkSession.builder.appName(\"Datasets/Customer_Churn_Prediction\").getOrCreate()\n",
        "spark"
      ]
    },
    {
      "cell_type": "markdown",
      "metadata": {
        "id": "Jn6fCpN5K5jb"
      },
      "source": [
        "Loading the `parctice-dataset.csv` file"
      ]
    },
    {
      "cell_type": "code",
      "execution_count": 3,
      "metadata": {
        "colab": {
          "base_uri": "https://localhost:8080/"
        },
        "id": "5EKyTAZYKyTr",
        "outputId": "450e7594-e614-4653-aee2-cf3bbe7e61bb"
      },
      "outputs": [
        {
          "output_type": "stream",
          "name": "stdout",
          "text": [
            "+----------+------------+------------+------------+------------+----------------+\n",
            "|EmployeeID|        KPI1|        KPI2|        KPI3|        KPI4|Current Employee|\n",
            "+----------+------------+------------+------------+------------+----------------+\n",
            "|         0|-1.039682384|-0.716426478|-0.513467693| 0.414661471|               0|\n",
            "|         1| 0.237093465|-0.820123996|-0.865801274| 0.438661047|               0|\n",
            "|         2|-2.077948003| 0.185688029|-0.132418305| 0.711280402|               1|\n",
            "|         3|-0.684711628| 1.522335039| 1.674082146|-1.234292085|               1|\n",
            "|         4|-1.137117653|-0.555136531|-0.176780706|-1.776008972|               0|\n",
            "+----------+------------+------------+------------+------------+----------------+\n",
            "only showing top 5 rows\n",
            "\n"
          ]
        }
      ],
      "source": [
        "data = spark.read.format('csv').option('header',True).option('inferSchema',True).load('Datasets/Practice_dataset.csv')\n",
        "data.show(5)\n"
      ]
    },
    {
      "cell_type": "markdown",
      "metadata": {
        "id": "G5CQl_LEVHW3"
      },
      "source": [
        "How many rows and columns do we have in the dataset?"
      ]
    },
    {
      "cell_type": "code",
      "execution_count": 4,
      "metadata": {
        "colab": {
          "base_uri": "https://localhost:8080/"
        },
        "id": "oLhqklGYVDsx",
        "outputId": "e01a206c-4a53-4e33-910b-2bd3bc7b3ee4"
      },
      "outputs": [
        {
          "output_type": "stream",
          "name": "stdout",
          "text": [
            "10000\n"
          ]
        },
        {
          "output_type": "execute_result",
          "data": {
            "text/plain": [
              "6"
            ]
          },
          "metadata": {},
          "execution_count": 4
        }
      ],
      "source": [
        "# write your code here\n",
        "print(data.count())\n",
        "len(data.columns)"
      ]
    },
    {
      "cell_type": "markdown",
      "metadata": {
        "id": "XU590GfcViTP"
      },
      "source": [
        "Create a histogram matrix to analyse the distributions of the numerical columns.\n",
        "\n",
        "- *Hint 1: List of the numerical columns = `[\"KPI1\",\"KPI2\",\"KPI3\",\"KPI4\"]`* <br>\n",
        "- *Hint 2: To create the histograms, first you will need to convert the pyspark dataframe into a pandas dataframe.*"
      ]
    },
    {
      "cell_type": "code",
      "execution_count": 5,
      "metadata": {
        "colab": {
          "base_uri": "https://localhost:8080/",
          "height": 957
        },
        "id": "0JtVJ2SGVrV3",
        "outputId": "ede0314d-6c8f-491d-ffd4-adbcbb37efbe"
      },
      "outputs": [
        {
          "output_type": "stream",
          "name": "stderr",
          "text": [
            "<ipython-input-5-d0f94232d6ca>:5: UserWarning: To output multiple subplots, the figure containing the passed axes is being cleared.\n",
            "  df.hist(ax=ax, bins = 20)\n"
          ]
        },
        {
          "output_type": "execute_result",
          "data": {
            "text/plain": [
              "array([[<Axes: title={'center': 'KPI1'}>,\n",
              "        <Axes: title={'center': 'KPI2'}>],\n",
              "       [<Axes: title={'center': 'KPI3'}>,\n",
              "        <Axes: title={'center': 'KPI4'}>]], dtype=object)"
            ]
          },
          "metadata": {},
          "execution_count": 5
        },
        {
          "output_type": "display_data",
          "data": {
            "text/plain": [
              "<Figure size 1500x1000 with 4 Axes>"
            ],
            "image/png": "[encoded data removed]"
          },
          "metadata": {}
        }
      ],
      "source": [
        "# write your code here\n",
        "df = data.select([\"KPI1\",\"KPI2\",\"KPI3\",\"KPI4\"]).toPandas()\n",
        "fig = plt.figure(figsize = (15,10))\n",
        "ax = fig.gca()\n",
        "df.hist(ax=ax, bins = 20)"
      ]
    },
    {
      "cell_type": "markdown",
      "metadata": {
        "id": "K3RKi7OHWJWP"
      },
      "source": [
        "Observe the distributions of the numerical columns in the histograms generated in the previous part.\n",
        "- Find the columns with outilers\n",
        "- Remove the outliers"
      ]
    },
    {
      "cell_type": "code",
      "execution_count": 6,
      "metadata": {
        "colab": {
          "base_uri": "https://localhost:8080/"
        },
        "id": "e0DVLkyrWTF_",
        "outputId": "50dd8e44-119d-47b7-e3c7-ae6d8dfab252"
      },
      "outputs": [
        {
          "output_type": "stream",
          "name": "stdout",
          "text": [
            "+----------+------------+----+------------+----------+----------------+\n",
            "|EmployeeID|        KPI1|KPI2|        KPI3|      KPI4|Current Employee|\n",
            "+----------+------------+----+------------+----------+----------------+\n",
            "|       271|-0.139097477|25.0|-1.039494829|0.34090306|               0|\n",
            "+----------+------------+----+------------+----------+----------------+\n",
            "\n",
            "+----------+------------+----------+-----------+----+----------------+\n",
            "|EmployeeID|        KPI1|      KPI2|       KPI3|KPI4|Current Employee|\n",
            "+----------+------------+----------+-----------+----+----------------+\n",
            "|       259|-1.092020773|1.14792853|1.188980132|15.0|               1|\n",
            "+----------+------------+----------+-----------+----+----------------+\n",
            "\n",
            "Before removing the outlier 10000\n",
            "After removing the outlier 9995\n"
          ]
        }
      ],
      "source": [
        "# write your code here\n",
        "data.select(\"*\").where(data.KPI2 > 5).show()\n",
        "data.select(\"*\").where(data.KPI4 > 5).show()\n",
        "print(\"Before removing the outlier\", data.count())\n",
        "data = data.filter(data.KPI2 < 5)\n",
        "data = data.filter(data.KPI4 < 5)\n",
        "print(\"After removing the outlier\", data.count())"
      ]
    },
    {
      "cell_type": "markdown",
      "metadata": {
        "id": "B59cm1jwXBuX"
      },
      "source": [
        "Find the missing values in the dataset."
      ]
    },
    {
      "cell_type": "code",
      "execution_count": 7,
      "metadata": {
        "colab": {
          "base_uri": "https://localhost:8080/"
        },
        "id": "r-QiT3txWyj3",
        "outputId": "4e91413a-7ea2-4cef-b03e-066ad6e3b0d9"
      },
      "outputs": [
        {
          "output_type": "stream",
          "name": "stdout",
          "text": [
            "+----------+\n",
            "|EmployeeID|\n",
            "+----------+\n",
            "|         0|\n",
            "+----------+\n",
            "\n",
            "+----+\n",
            "|KPI1|\n",
            "+----+\n",
            "|   4|\n",
            "+----+\n",
            "\n",
            "+----+\n",
            "|KPI2|\n",
            "+----+\n",
            "|   0|\n",
            "+----+\n",
            "\n",
            "+----+\n",
            "|KPI3|\n",
            "+----+\n",
            "|   2|\n",
            "+----+\n",
            "\n",
            "+----+\n",
            "|KPI4|\n",
            "+----+\n",
            "|   0|\n",
            "+----+\n",
            "\n",
            "+----------------+\n",
            "|Current Employee|\n",
            "+----------------+\n",
            "|               0|\n",
            "+----------------+\n",
            "\n"
          ]
        }
      ],
      "source": [
        "# write your code here\n",
        "# Using SQL methods\n",
        "for column in data.columns:\n",
        "  data.select(count(when(col(column).isNull(), column)).alias(column)).show()"
      ]
    },
    {
      "cell_type": "markdown",
      "metadata": {
        "id": "cMOG53waYjoI"
      },
      "source": [
        "Use **Mean Imputer** to fill the missing values"
      ]
    },
    {
      "cell_type": "code",
      "execution_count": 8,
      "metadata": {
        "id": "bYK7AF1aYpAW"
      },
      "outputs": [],
      "source": [
        "from pyspark.ml.feature import Imputer\n",
        "# write your code here\n",
        "columns_with_missing_values = [\"KPI1\", \"KPI3\", \"KPI4\"]\n",
        "imputer = Imputer(inputCols = columns_with_missing_values, outputCols = columns_with_missing_values).setStrategy(\"mean\")\n",
        "imputer = imputer.fit(data)\n",
        "data = imputer.transform(data)"
      ]
    },
    {
      "cell_type": "markdown",
      "metadata": {
        "id": "whcp-_jbbmQ-"
      },
      "source": [
        "Again, find the missing values in the dataset to make sure no missing value exists."
      ]
    },
    {
      "cell_type": "code",
      "execution_count": 9,
      "metadata": {
        "colab": {
          "base_uri": "https://localhost:8080/"
        },
        "id": "YUhsVtYQa5bm",
        "outputId": "ddc54a15-4bce-4110-c9a9-276d56f296b9"
      },
      "outputs": [
        {
          "output_type": "stream",
          "name": "stdout",
          "text": [
            "+----------+\n",
            "|EmployeeID|\n",
            "+----------+\n",
            "|         0|\n",
            "+----------+\n",
            "\n",
            "+----+\n",
            "|KPI1|\n",
            "+----+\n",
            "|   0|\n",
            "+----+\n",
            "\n",
            "+----+\n",
            "|KPI2|\n",
            "+----+\n",
            "|   0|\n",
            "+----+\n",
            "\n",
            "+----+\n",
            "|KPI3|\n",
            "+----+\n",
            "|   0|\n",
            "+----+\n",
            "\n",
            "+----+\n",
            "|KPI4|\n",
            "+----+\n",
            "|   0|\n",
            "+----+\n",
            "\n",
            "+----------------+\n",
            "|Current Employee|\n",
            "+----------------+\n",
            "|               0|\n",
            "+----------------+\n",
            "\n"
          ]
        }
      ],
      "source": [
        "# write your code here\n",
        "for column in data.columns:\n",
        "  data.select(count(when(col(column).isNull(), column)).alias(column)).show()"
      ]
    }
  ],
  "metadata": {
    "colab": {
      "provenance": []
    },
    "kernelspec": {
      "display_name": "Python 3 (ipykernel)",
      "language": "python",
      "name": "python3"
    },
    "language_info": {
      "codemirror_mode": {
        "name": "ipython",
        "version": 3
      },
      "file_extension": ".py",
      "mimetype": "text/x-python",
      "name": "python",
      "nbconvert_exporter": "python",
      "pygments_lexer": "ipython3",
      "version": "3.10.6"
    }
  },
  "nbformat": 4,
  "nbformat_minor": 0
}